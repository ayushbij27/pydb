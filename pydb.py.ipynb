{
 "cells": [
  {
   "cell_type": "code",
   "execution_count": 11,
   "metadata": {},
   "outputs": [],
   "source": [
    "import sys"
   ]
  },
  {
   "cell_type": "code",
   "execution_count": 12,
   "metadata": {},
   "outputs": [],
   "source": [
    "input_list=[]\n",
    "username_list=[]\n",
    "email_list=[]\n",
    "id_list=[]"
   ]
  },
  {
   "cell_type": "code",
   "execution_count": 13,
   "metadata": {},
   "outputs": [],
   "source": [
    "def insert():\n",
    "        id_list.append(input_list[1])\n",
    "        username_list.append(input_list[2])\n",
    "        email_list.append(input_list[3])\n",
    "        return 'Executed'"
   ]
  },
  {
   "cell_type": "code",
   "execution_count": 14,
   "metadata": {},
   "outputs": [],
   "source": [
    "def select():\n",
    "        for i in range(len(id_list)):\n",
    "            print '(' + id_list[i] + ',' + username_list[i] + ',' + email_list[i] + ')'\n",
    "        \n",
    "    "
   ]
  },
  {
   "cell_type": "code",
   "execution_count": null,
   "metadata": {},
   "outputs": [
    {
     "name": "stdout",
     "output_type": "stream",
     "text": [
      ">.insert 1 ayush a@c.com\n",
      "Executed\n",
      ">.select\n",
      "(1,ayush,a@c.com)\n",
      "None\n",
      ">.insert 2 shailesh s@c.com\n",
      "Executed\n",
      ">.select\n",
      "(1,ayush,a@c.com)\n",
      "(2,shailesh,s@c.com)\n",
      "None\n"
     ]
    }
   ],
   "source": [
    "while True:\n",
    "\n",
    "    \n",
    "\n",
    "    meta_function_list = {'.insert':insert,'.select':select,'.exit':sys.exit}\n",
    "    inp= raw_input('>')\n",
    "    if inp.startswith('.'):\n",
    "        input_list=inp.split()\n",
    "        # print input_list\n",
    "        if input_list[0] in meta_function_list:\n",
    "            print(meta_function_list[input_list[0]]())\n",
    "        else:\n",
    "            print(\"Unrecognized command \"+\"'\"+input_list[0]+\"'\")\n",
    "\n",
    "    \n",
    "    \n",
    "    "
   ]
  },
  {
   "cell_type": "code",
   "execution_count": null,
   "metadata": {},
   "outputs": [],
   "source": []
  }
 ],
 "metadata": {
  "kernelspec": {
   "display_name": "Python 2",
   "language": "python",
   "name": "python2"
  },
  "language_info": {
   "codemirror_mode": {
    "name": "ipython",
    "version": 2
   },
   "file_extension": ".py",
   "mimetype": "text/x-python",
   "name": "python",
   "nbconvert_exporter": "python",
   "pygments_lexer": "ipython2",
   "version": "2.7.10"
  }
 },
 "nbformat": 4,
 "nbformat_minor": 1
}
