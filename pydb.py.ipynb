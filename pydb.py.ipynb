{
 "cells": [
  {
   "cell_type": "code",
   "execution_count": 1,
   "metadata": {},
   "outputs": [],
   "source": [
    "import sys"
   ]
  },
  {
   "cell_type": "code",
   "execution_count": 2,
   "metadata": {},
   "outputs": [
    {
     "name": "stdout",
     "output_type": "stream",
     "text": [
      ">.insert 1 ayush a@c.com\n",
      "Executed\n",
      ">.exit\n"
     ]
    },
    {
     "ename": "SystemExit",
     "evalue": "",
     "output_type": "error",
     "traceback": [
      "An exception has occurred, use %tb to see the full traceback.\n",
      "\u001b[0;31mSystemExit\u001b[0m\n"
     ]
    },
    {
     "name": "stderr",
     "output_type": "stream",
     "text": [
      "/usr/local/lib/python2.7/dist-packages/IPython/core/interactiveshell.py:2890: UserWarning: To exit: use 'exit', 'quit', or Ctrl-D.\n",
      "  warn(\"To exit: use 'exit', 'quit', or Ctrl-D.\", stacklevel=1)\n"
     ]
    }
   ],
   "source": [
    "while True:\n",
    "\n",
    "    input_list=[]\n",
    "    username_list=[]\n",
    "    email_list=[]\n",
    "    id_list=[]\n",
    "\n",
    "    def insert():\n",
    "        id_list.append(input_list[1])\n",
    "        username_list.append(input_list[2])\n",
    "        email_list.append(input_list[3])\n",
    "        return 'Executed'\n",
    "\n",
    "    def select():\n",
    "        for i in range(id_list):\n",
    "            print '(' + id_list[i] + ',' + username_list[i] + ',' + email_list[i] + ')'\n",
    "        \n",
    "    \n",
    "    \n",
    "    meta_function_list = {'.insert':insert,'.select':select,'.exit':sys.exit}\n",
    "    inp= raw_input('>')\n",
    "    if inp.startswith('.'):\n",
    "        input_list=inp.split()\n",
    "        # print input_list\n",
    "        if input_list[0] in meta_function_list:\n",
    "            print(meta_function_list[input_list[0]]())\n",
    "        else:\n",
    "            print(\"Unrecognized command \"+\"'\"+input_list[0]+\"'\")"
   ]
  },
  {
   "cell_type": "code",
   "execution_count": null,
   "metadata": {
    "collapsed": true
   },
   "outputs": [],
   "source": []
  }
 ],
 "metadata": {
  "kernelspec": {
   "display_name": "Python 2",
   "language": "python",
   "name": "python2"
  },
  "language_info": {
   "codemirror_mode": {
    "name": "ipython",
    "version": 2
   },
   "file_extension": ".py",
   "mimetype": "text/x-python",
   "name": "python",
   "nbconvert_exporter": "python",
   "pygments_lexer": "ipython2",
   "version": "2.7.10"
  }
 },
 "nbformat": 4,
 "nbformat_minor": 1
}
